{
 "cells": [
  {
   "cell_type": "markdown",
   "metadata": {},
   "source": [
    "#### Обработка данных"
   ]
  },
  {
   "cell_type": "code",
   "execution_count": 2,
   "metadata": {
    "collapsed": false
   },
   "outputs": [
    {
     "name": "stdout",
     "output_type": "stream",
     "text": [
      "Populating the interactive namespace from numpy and matplotlib\n"
     ]
    }
   ],
   "source": [
    "import pandas as pd\n",
    "import numpy as np\n",
    "\n",
    "import plotly.plotly as py\n",
    "import plotly.graph_objs as go\n",
    "\n",
    "from scipy import optimize as opt \n",
    "import scipy\n",
    "import scipy.odr as odr\n",
    "\n",
    "from statsmodels.stats.weightstats import *\n",
    "\n",
    "%pylab inline"
   ]
  },
  {
   "cell_type": "code",
   "execution_count": 21,
   "metadata": {
    "collapsed": true
   },
   "outputs": [],
   "source": [
    "data1 = pd.read_csv('data/experiment1.csv') # Считываем данные\n",
    "data2 = pd.read_csv('data/experiment2.csv')"
   ]
  },
  {
   "cell_type": "code",
   "execution_count": 22,
   "metadata": {
    "collapsed": false
   },
   "outputs": [
    {
     "data": {
      "text/plain": [
       "<bound method DataFrame.head of     ﻿D    D1    1m  2m  3m\n",
       "0   40   1.0  70.0  70  70\n",
       "1   45   2.5  19.0  38  58\n",
       "2   50   3.5  11.0  22  34\n",
       "3   55   4.0   7.5  16  24\n",
       "4   60   5.5   6.0  12  18\n",
       "5   65   9.0   5.0   9  14\n",
       "6   70  10.0   4.0   8  11\n",
       "7   75  12.0   3.0   6   9\n",
       "8   80  13.0   2.0   5   7\n",
       "9   85  14.5   2.0   5   6\n",
       "10  90  16.5   1.0   3   5>"
      ]
     },
     "execution_count": 22,
     "metadata": {},
     "output_type": "execute_result"
    }
   ],
   "source": [
    "data1.head # Посмотрим на несколько значений"
   ]
  },
  {
   "cell_type": "code",
   "execution_count": 23,
   "metadata": {
    "collapsed": false
   },
   "outputs": [
    {
     "data": {
      "text/plain": [
       "<bound method DataFrame.head of    ﻿number   x1   x2   x3   x4   x5    Y  K\n",
       "0        3  1.5  1.4  1.4  0.0  0.0  3.5  4\n",
       "1        5  1.8  1.9  1.7  1.9  1.5  5.3  4\n",
       "2        6  1.7  1.8  1.6  1.7  0.0  3.3  4\n",
       "3       10  1.0  0.9  1.0  0.8  0.0  2.0  4\n",
       "4       11  0.7  0.8  0.6  0.7  0.0  1.3  4\n",
       "5       12  0.7  0.8  0.6  0.7  0.0  1.0  4>"
      ]
     },
     "execution_count": 23,
     "metadata": {},
     "output_type": "execute_result"
    }
   ],
   "source": [
    "data2.head"
   ]
  },
  {
   "cell_type": "code",
   "execution_count": 24,
   "metadata": {
    "collapsed": false
   },
   "outputs": [],
   "source": [
    "data1['﻿D'] = (data1['﻿D']-38)*10 #mkm"
   ]
  },
  {
   "cell_type": "code",
   "execution_count": 29,
   "metadata": {
    "collapsed": false
   },
   "outputs": [
    {
     "data": {
      "text/plain": [
       "0     0.001792\n",
       "1     0.001280\n",
       "2     0.001045\n",
       "3     0.000843\n",
       "4     0.000896\n",
       "5     0.001194\n",
       "6     0.001120\n",
       "7     0.001162\n",
       "8     0.001109\n",
       "9     0.001105\n",
       "10    0.001137\n",
       "dtype: float64"
      ]
     },
     "execution_count": 29,
     "metadata": {},
     "output_type": "execute_result"
    }
   ],
   "source": [
    "data1['D1']*4.3/120 /data1['﻿D']"
   ]
  },
  {
   "cell_type": "code",
   "execution_count": 30,
   "metadata": {
    "collapsed": false
   },
   "outputs": [
    {
     "data": {
      "text/plain": [
       "0     0.035833\n",
       "1     0.089583\n",
       "2     0.125417\n",
       "3     0.143333\n",
       "4     0.197083\n",
       "5     0.322500\n",
       "6     0.358333\n",
       "7     0.430000\n",
       "8     0.465833\n",
       "9     0.519583\n",
       "10    0.591250\n",
       "Name: D1, dtype: float64"
      ]
     },
     "execution_count": 30,
     "metadata": {},
     "output_type": "execute_result"
    }
   ],
   "source": [
    "data1['D1']*4.3/120"
   ]
  },
  {
   "cell_type": "code",
   "execution_count": 32,
   "metadata": {
    "collapsed": false
   },
   "outputs": [
    {
     "data": {
      "text/plain": [
       "0      20\n",
       "1      70\n",
       "2     120\n",
       "3     170\n",
       "4     220\n",
       "5     270\n",
       "6     320\n",
       "7     370\n",
       "8     420\n",
       "9     470\n",
       "10    520\n",
       "Name: ﻿D, dtype: int64"
      ]
     },
     "execution_count": 32,
     "metadata": {},
     "output_type": "execute_result"
    }
   ],
   "source": [
    "data1['﻿D']"
   ]
  },
  {
   "cell_type": "code",
   "execution_count": null,
   "metadata": {
    "collapsed": true
   },
   "outputs": [],
   "source": []
  }
 ],
 "metadata": {
  "anaconda-cloud": {},
  "kernelspec": {
   "display_name": "Python [new2]",
   "language": "python",
   "name": "Python [new2]"
  },
  "language_info": {
   "codemirror_mode": {
    "name": "ipython",
    "version": 2
   },
   "file_extension": ".py",
   "mimetype": "text/x-python",
   "name": "python",
   "nbconvert_exporter": "python",
   "pygments_lexer": "ipython2",
   "version": "2.7.12"
  }
 },
 "nbformat": 4,
 "nbformat_minor": 0
}
