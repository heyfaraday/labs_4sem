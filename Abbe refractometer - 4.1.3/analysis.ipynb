{
 "cells": [
  {
   "cell_type": "markdown",
   "metadata": {},
   "source": [
    "#### Обработка данных"
   ]
  },
  {
   "cell_type": "code",
   "execution_count": 2,
   "metadata": {},
   "outputs": [
    {
     "name": "stdout",
     "output_type": "stream",
     "text": [
      "Populating the interactive namespace from numpy and matplotlib\n"
     ]
    }
   ],
   "source": [
    "import pandas as pd\n",
    "import numpy as np\n",
    "\n",
    "import plotly.plotly as py\n",
    "import plotly.graph_objs as go\n",
    "\n",
    "from scipy import optimize as opt \n",
    "import scipy\n",
    "import scipy.odr as odr\n",
    "\n",
    "from statsmodels.stats.weightstats import *\n",
    "\n",
    "%pylab inline"
   ]
  },
  {
   "cell_type": "code",
   "execution_count": 3,
   "metadata": {
    "collapsed": true
   },
   "outputs": [],
   "source": [
    "data1 = pd.read_csv('data/experiment.csv')"
   ]
  },
  {
   "cell_type": "code",
   "execution_count": 4,
   "metadata": {},
   "outputs": [
    {
     "data": {
      "text/html": [
       "<div>\n",
       "<table border=\"1\" class=\"dataframe\">\n",
       "  <thead>\n",
       "    <tr style=\"text-align: right;\">\n",
       "      <th></th>\n",
       "      <th>h1</th>\n",
       "      <th>h2</th>\n",
       "      <th>m1</th>\n",
       "      <th>m2</th>\n",
       "      <th>s1</th>\n",
       "      <th>s2</th>\n",
       "      <th>c1</th>\n",
       "      <th>c2</th>\n",
       "      <th>g1</th>\n",
       "      <th>g2</th>\n",
       "    </tr>\n",
       "  </thead>\n",
       "  <tbody>\n",
       "    <tr>\n",
       "      <th>0</th>\n",
       "      <td>1.331</td>\n",
       "      <td>1.329</td>\n",
       "      <td>1.655</td>\n",
       "      <td>1.655</td>\n",
       "      <td>1.513</td>\n",
       "      <td>1.513</td>\n",
       "      <td>1.359</td>\n",
       "      <td>1.360</td>\n",
       "      <td>1.469</td>\n",
       "      <td>1.469</td>\n",
       "    </tr>\n",
       "    <tr>\n",
       "      <th>1</th>\n",
       "      <td>1.330</td>\n",
       "      <td>1.330</td>\n",
       "      <td>1.653</td>\n",
       "      <td>1.654</td>\n",
       "      <td>1.512</td>\n",
       "      <td>1.514</td>\n",
       "      <td>1.361</td>\n",
       "      <td>1.359</td>\n",
       "      <td>1.467</td>\n",
       "      <td>1.469</td>\n",
       "    </tr>\n",
       "    <tr>\n",
       "      <th>2</th>\n",
       "      <td>1.332</td>\n",
       "      <td>1.329</td>\n",
       "      <td>1.651</td>\n",
       "      <td>1.655</td>\n",
       "      <td>1.512</td>\n",
       "      <td>1.513</td>\n",
       "      <td>1.360</td>\n",
       "      <td>1.361</td>\n",
       "      <td>1.467</td>\n",
       "      <td>1.469</td>\n",
       "    </tr>\n",
       "    <tr>\n",
       "      <th>3</th>\n",
       "      <td>NaN</td>\n",
       "      <td>NaN</td>\n",
       "      <td>1.654</td>\n",
       "      <td>NaN</td>\n",
       "      <td>NaN</td>\n",
       "      <td>NaN</td>\n",
       "      <td>NaN</td>\n",
       "      <td>NaN</td>\n",
       "      <td>1.467</td>\n",
       "      <td>1.470</td>\n",
       "    </tr>\n",
       "  </tbody>\n",
       "</table>\n",
       "</div>"
      ],
      "text/plain": [
       "      h1     h2     m1     m2     s1     s2     c1     c2     g1     g2\n",
       "0  1.331  1.329  1.655  1.655  1.513  1.513  1.359  1.360  1.469  1.469\n",
       "1  1.330  1.330  1.653  1.654  1.512  1.514  1.361  1.359  1.467  1.469\n",
       "2  1.332  1.329  1.651  1.655  1.512  1.513  1.360  1.361  1.467  1.469\n",
       "3    NaN    NaN  1.654    NaN    NaN    NaN    NaN    NaN  1.467  1.470"
      ]
     },
     "execution_count": 4,
     "metadata": {},
     "output_type": "execute_result"
    }
   ],
   "source": [
    "data1"
   ]
  }
 ],
 "metadata": {
  "anaconda-cloud": {},
  "kernelspec": {
   "display_name": "Python 3",
   "language": "python",
   "name": "python3"
  },
  "language_info": {
   "codemirror_mode": {
    "name": "ipython",
    "version": 3
   },
   "file_extension": ".py",
   "mimetype": "text/x-python",
   "name": "python",
   "nbconvert_exporter": "python",
   "pygments_lexer": "ipython3",
   "version": "3.6.0"
  }
 },
 "nbformat": 4,
 "nbformat_minor": 1
}
